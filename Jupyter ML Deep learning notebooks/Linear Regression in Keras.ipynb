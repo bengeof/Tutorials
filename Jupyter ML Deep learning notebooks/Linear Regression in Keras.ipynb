{
 "cells": [
  {
   "cell_type": "code",
   "execution_count": 1,
   "metadata": {},
   "outputs": [],
   "source": [
    "from keras.models import Sequential\n",
    "from keras.layers import Dense\n",
    "from keras.optimizers import Adam, SGD\n",
    "import numpy as np\n",
    "import pandas as pd\n",
    "import matplotlib.pyplot as plt"
   ]
  },
  {
   "cell_type": "code",
   "execution_count": 2,
   "metadata": {},
   "outputs": [
    {
     "data": {
      "text/html": [
       "<div>\n",
       "<style scoped>\n",
       "    .dataframe tbody tr th:only-of-type {\n",
       "        vertical-align: middle;\n",
       "    }\n",
       "\n",
       "    .dataframe tbody tr th {\n",
       "        vertical-align: top;\n",
       "    }\n",
       "\n",
       "    .dataframe thead th {\n",
       "        text-align: right;\n",
       "    }\n",
       "</style>\n",
       "<table border=\"1\" class=\"dataframe\">\n",
       "  <thead>\n",
       "    <tr style=\"text-align: right;\">\n",
       "      <th></th>\n",
       "      <th>Index</th>\n",
       "      <th>BrainWeight</th>\n",
       "      <th>BodyWeight</th>\n",
       "    </tr>\n",
       "  </thead>\n",
       "  <tbody>\n",
       "    <tr>\n",
       "      <th>0</th>\n",
       "      <td>1</td>\n",
       "      <td>3.385</td>\n",
       "      <td>44.5</td>\n",
       "    </tr>\n",
       "    <tr>\n",
       "      <th>1</th>\n",
       "      <td>2</td>\n",
       "      <td>0.480</td>\n",
       "      <td>15.5</td>\n",
       "    </tr>\n",
       "    <tr>\n",
       "      <th>2</th>\n",
       "      <td>3</td>\n",
       "      <td>1.350</td>\n",
       "      <td>8.1</td>\n",
       "    </tr>\n",
       "    <tr>\n",
       "      <th>3</th>\n",
       "      <td>4</td>\n",
       "      <td>465.000</td>\n",
       "      <td>423.0</td>\n",
       "    </tr>\n",
       "    <tr>\n",
       "      <th>4</th>\n",
       "      <td>5</td>\n",
       "      <td>36.330</td>\n",
       "      <td>119.5</td>\n",
       "    </tr>\n",
       "    <tr>\n",
       "      <th>...</th>\n",
       "      <td>...</td>\n",
       "      <td>...</td>\n",
       "      <td>...</td>\n",
       "    </tr>\n",
       "    <tr>\n",
       "      <th>57</th>\n",
       "      <td>58</td>\n",
       "      <td>160.000</td>\n",
       "      <td>169.0</td>\n",
       "    </tr>\n",
       "    <tr>\n",
       "      <th>58</th>\n",
       "      <td>59</td>\n",
       "      <td>0.900</td>\n",
       "      <td>2.6</td>\n",
       "    </tr>\n",
       "    <tr>\n",
       "      <th>59</th>\n",
       "      <td>60</td>\n",
       "      <td>1.620</td>\n",
       "      <td>11.4</td>\n",
       "    </tr>\n",
       "    <tr>\n",
       "      <th>60</th>\n",
       "      <td>61</td>\n",
       "      <td>0.104</td>\n",
       "      <td>2.5</td>\n",
       "    </tr>\n",
       "    <tr>\n",
       "      <th>61</th>\n",
       "      <td>62</td>\n",
       "      <td>4.235</td>\n",
       "      <td>50.4</td>\n",
       "    </tr>\n",
       "  </tbody>\n",
       "</table>\n",
       "<p>62 rows × 3 columns</p>\n",
       "</div>"
      ],
      "text/plain": [
       "    Index  BrainWeight  BodyWeight\n",
       "0       1        3.385        44.5\n",
       "1       2        0.480        15.5\n",
       "2       3        1.350         8.1\n",
       "3       4      465.000       423.0\n",
       "4       5       36.330       119.5\n",
       "..    ...          ...         ...\n",
       "57     58      160.000       169.0\n",
       "58     59        0.900         2.6\n",
       "59     60        1.620        11.4\n",
       "60     61        0.104         2.5\n",
       "61     62        4.235        50.4\n",
       "\n",
       "[62 rows x 3 columns]"
      ]
     },
     "execution_count": 2,
     "metadata": {},
     "output_type": "execute_result"
    }
   ],
   "source": [
    "data = pd.read_csv(\"brain-body.csv\", delimiter=\",\")\n",
    "data"
   ]
  },
  {
   "cell_type": "code",
   "execution_count": 3,
   "metadata": {},
   "outputs": [],
   "source": [
    "\n",
    "\n",
    "X = data[['BrainWeight']].values\n",
    "Y = data[['BodyWeight']].values\n",
    "\n"
   ]
  },
  {
   "cell_type": "code",
   "execution_count": 4,
   "metadata": {},
   "outputs": [
    {
     "name": "stdout",
     "output_type": "stream",
     "text": [
      "Model: \"sequential\"\n",
      "_________________________________________________________________\n",
      "Layer (type)                 Output Shape              Param #   \n",
      "=================================================================\n",
      "dense (Dense)                (None, 1)                 2         \n",
      "=================================================================\n",
      "Total params: 2\n",
      "Trainable params: 2\n",
      "Non-trainable params: 0\n",
      "_________________________________________________________________\n"
     ]
    }
   ],
   "source": [
    "model = Sequential()\n",
    "model.add(Dense(1, input_dim=1))\n",
    "model.summary()"
   ]
  },
  {
   "cell_type": "code",
   "execution_count": 5,
   "metadata": {},
   "outputs": [
    {
     "name": "stdout",
     "output_type": "stream",
     "text": [
      "Epoch 1/50\n",
      "2/2 [==============================] - 0s 2ms/step - loss: 362908.8542\n",
      "Epoch 2/50\n",
      "2/2 [==============================] - 0s 0s/step - loss: 141962.2357\n",
      "Epoch 3/50\n",
      "2/2 [==============================] - 0s 4ms/step - loss: 185713.5781\n",
      "Epoch 4/50\n",
      "2/2 [==============================] - 0s 998us/step - loss: 174935.6302\n",
      "Epoch 5/50\n",
      "2/2 [==============================] - 0s 999us/step - loss: 143494.7500\n",
      "Epoch 6/50\n",
      "2/2 [==============================] - 0s 2ms/step - loss: 129806.8333\n",
      "Epoch 7/50\n",
      "2/2 [==============================] - 0s 2ms/step - loss: 163607.1823\n",
      "Epoch 8/50\n",
      "2/2 [==============================] - 0s 2ms/step - loss: 173248.6302\n",
      "Epoch 9/50\n",
      "2/2 [==============================] - 0s 2ms/step - loss: 143926.2760\n",
      "Epoch 10/50\n",
      "2/2 [==============================] - 0s 3ms/step - loss: 156501.2760\n",
      "Epoch 11/50\n",
      "2/2 [==============================] - 0s 4ms/step - loss: 141956.0365\n",
      "Epoch 12/50\n",
      "2/2 [==============================] - 0s 2ms/step - loss: 147651.5521\n",
      "Epoch 13/50\n",
      "2/2 [==============================] - 0s 4ms/step - loss: 140904.5365\n",
      "Epoch 14/50\n",
      "2/2 [==============================] - 0s 3ms/step - loss: 155815.8125\n",
      "Epoch 15/50\n",
      "2/2 [==============================] - 0s 5ms/step - loss: 131642.8854\n",
      "Epoch 16/50\n",
      "2/2 [==============================] - 0s 0s/step - loss: 93598.3229\n",
      "Epoch 17/50\n",
      "2/2 [==============================] - 0s 4ms/step - loss: 106435.1914\n",
      "Epoch 18/50\n",
      "2/2 [==============================] - 0s 3ms/step - loss: 83521.0983\n",
      "Epoch 19/50\n",
      "2/2 [==============================] - 0s 997us/step - loss: 98074.8464\n",
      "Epoch 20/50\n",
      "2/2 [==============================] - 0s 3ms/step - loss: 111995.9115\n",
      "Epoch 21/50\n",
      "2/2 [==============================] - 0s 2ms/step - loss: 136872.2917\n",
      "Epoch 22/50\n",
      "2/2 [==============================] - 0s 3ms/step - loss: 107327.2318\n",
      "Epoch 23/50\n",
      "2/2 [==============================] - 0s 3ms/step - loss: 88927.2122\n",
      "Epoch 24/50\n",
      "2/2 [==============================] - 0s 3ms/step - loss: 95249.1224\n",
      "Epoch 25/50\n",
      "2/2 [==============================] - 0s 2ms/step - loss: 77938.2844\n",
      "Epoch 26/50\n",
      "2/2 [==============================] - 0s 4ms/step - loss: 150346.6771\n",
      "Epoch 27/50\n",
      "2/2 [==============================] - 0s 998us/step - loss: 143974.5833\n",
      "Epoch 28/50\n",
      "2/2 [==============================] - 0s 2ms/step - loss: 94353.7109\n",
      "Epoch 29/50\n",
      "2/2 [==============================] - 0s 2ms/step - loss: 137484.5208\n",
      "Epoch 30/50\n",
      "2/2 [==============================] - 0s 2ms/step - loss: 76532.3333\n",
      "Epoch 31/50\n",
      "2/2 [==============================] - 0s 1ms/step - loss: 88650.8229\n",
      "Epoch 32/50\n",
      "2/2 [==============================] - 0s 4ms/step - loss: 83737.6133\n",
      "Epoch 33/50\n",
      "2/2 [==============================] - 0s 4ms/step - loss: 85811.7611\n",
      "Epoch 34/50\n",
      "2/2 [==============================] - 0s 2ms/step - loss: 159089.5781\n",
      "Epoch 35/50\n",
      "2/2 [==============================] - 0s 2ms/step - loss: 126021.2969\n",
      "Epoch 36/50\n",
      "2/2 [==============================] - 0s 2ms/step - loss: 152840.6771\n",
      "Epoch 37/50\n",
      "2/2 [==============================] - 0s 998us/step - loss: 98813.8945\n",
      "Epoch 38/50\n",
      "2/2 [==============================] - 0s 3ms/step - loss: 167053.7604\n",
      "Epoch 39/50\n",
      "2/2 [==============================] - 0s 5ms/step - loss: 127220.8073\n",
      "Epoch 40/50\n",
      "2/2 [==============================] - 0s 1ms/step - loss: 115083.5482\n",
      "Epoch 41/50\n",
      "2/2 [==============================] - 0s 2ms/step - loss: 207444.2083\n",
      "Epoch 42/50\n",
      "2/2 [==============================] - 0s 4ms/step - loss: 153605.0885\n",
      "Epoch 43/50\n",
      "2/2 [==============================] - 0s 0s/step - loss: 146254.5417\n",
      "Epoch 44/50\n",
      "2/2 [==============================] - 0s 5ms/step - loss: 148410.9219\n",
      "Epoch 45/50\n",
      "2/2 [==============================] - 0s 3ms/step - loss: 89455.7839\n",
      "Epoch 46/50\n",
      "2/2 [==============================] - 0s 5ms/step - loss: 148824.1667\n",
      "Epoch 47/50\n",
      "2/2 [==============================] - 0s 3ms/step - loss: 101195.7656\n",
      "Epoch 48/50\n",
      "2/2 [==============================] - 0s 2ms/step - loss: 91879.4727\n",
      "Epoch 49/50\n",
      "2/2 [==============================] - 0s 0s/step - loss: 164703.1562\n",
      "Epoch 50/50\n",
      "2/2 [==============================] - 0s 3ms/step - loss: 120526.6380\n"
     ]
    },
    {
     "data": {
      "text/plain": [
       "<tensorflow.python.keras.callbacks.History at 0x2527bf506d8>"
      ]
     },
     "execution_count": 5,
     "metadata": {},
     "output_type": "execute_result"
    }
   ],
   "source": [
    "model.compile(Adam(lr=0.8), 'mean_squared_error')\n",
    "model.fit(X, Y, epochs=50)"
   ]
  },
  {
   "cell_type": "code",
   "execution_count": 6,
   "metadata": {},
   "outputs": [],
   "source": [
    "Y_predict = model.predict(X)"
   ]
  },
  {
   "cell_type": "code",
   "execution_count": 7,
   "metadata": {},
   "outputs": [
    {
     "data": {
      "image/png": "[encoded data removed]",
      "text/plain": [
       "<Figure size 432x288 with 1 Axes>"
      ]
     },
     "metadata": {
      "needs_background": "light"
     },
     "output_type": "display_data"
    }
   ],
   "source": [
    "data.plot(kind='scatter',\n",
    "          x = 'BrainWeight',\n",
    "          y = 'BodyWeight',\n",
    "          title='Brain Weight and Body Weight Regression Plot')\n",
    "\n",
    "plt.plot(X, Y_predict, color='red', linewidth=3)\n",
    "plt.show()"
   ]
  },
  {
   "cell_type": "code",
   "execution_count": null,
   "metadata": {},
   "outputs": [],
   "source": []
  },
  {
   "cell_type": "code",
   "execution_count": null,
   "metadata": {},
   "outputs": [],
   "source": []
  }
 ],
 "metadata": {
  "kernelspec": {
   "display_name": "Python 3",
   "language": "python",
   "name": "python3"
  },
  "language_info": {
   "codemirror_mode": {
    "name": "ipython",
    "version": 3
   },
   "file_extension": ".py",
   "mimetype": "text/x-python",
   "name": "python",
   "nbconvert_exporter": "python",
   "pygments_lexer": "ipython3",
   "version": "3.6.10"
  }
 },
 "nbformat": 4,
 "nbformat_minor": 4
}
